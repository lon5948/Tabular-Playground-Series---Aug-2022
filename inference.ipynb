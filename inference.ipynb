{
 "cells": [
  {
   "cell_type": "code",
   "execution_count": 1,
   "metadata": {},
   "outputs": [],
   "source": [
    "import numpy as np\n",
    "import pandas as pd\n",
    "\n",
    "from sklearn.linear_model import LinearRegression\n",
    "from sklearn.impute import SimpleImputer\n",
    "from sklearn.decomposition import PCA\n",
    "from sklearn.preprocessing import MinMaxScaler\n",
    "\n",
    "import joblib\n",
    "import warnings\n",
    "warnings.filterwarnings('ignore')"
   ]
  },
  {
   "cell_type": "code",
   "execution_count": 2,
   "metadata": {},
   "outputs": [
    {
     "name": "stdout",
     "output_type": "stream",
     "text": [
      "(20775, 24)\n"
     ]
    }
   ],
   "source": [
    "train_df = pd.read_csv('data/train.csv', index_col='id')\n",
    "test_df = pd.read_csv('data/test.csv', index_col='id')\n",
    "sub_df = pd.read_csv('sample_submission.csv', index_col='id')\n",
    "print(test_df.shape)"
   ]
  },
  {
   "cell_type": "code",
   "execution_count": 4,
   "metadata": {},
   "outputs": [],
   "source": [
    "train_df = train_df.drop('failure', axis=1)\n",
    "train_df['product_code'] = train_df['product_code'].map({'A': 0, 'B': 1, 'C': 2, 'D': 3, 'E': 4, 'F': 5, 'G': 6, 'H': 7, 'I': 8})\n",
    "train_df['attribute_0'] = train_df['attribute_0'].map({'material_5': 0, 'material_8': 1})\n",
    "train_df['attribute_1'] = train_df['attribute_1'].map({'material_5': 0, 'material_6': 1, 'material_7': 2, 'material_8': 3})\n",
    "\n",
    "test_df['product_code'] = test_df['product_code'].map({'A': 0, 'B': 1, 'C': 2, 'D': 3, 'E': 4, 'F': 5, 'G': 6, 'H': 7, 'I': 8})\n",
    "test_df['attribute_0'] = test_df['attribute_0'].map({'material_5': 0, 'material_7': 1})\n",
    "test_df['attribute_1'] = test_df['attribute_1'].map({'material_5': 0, 'material_6': 1, 'material_7': 2, 'material_8': 3})\n",
    "\n",
    "imputer = SimpleImputer(strategy='most_frequent')\n",
    "train_df = pd.DataFrame(imputer.fit_transform(train_df), columns=train_df.columns, index=train_df.index)\n",
    "test_df = pd.DataFrame(imputer.fit_transform(test_df), columns=test_df.columns, index=test_df.index)"
   ]
  },
  {
   "cell_type": "code",
   "execution_count": 5,
   "metadata": {},
   "outputs": [],
   "source": [
    "pca = PCA(n_components=2)\n",
    "train_df = pca.fit_transform(train_df)\n",
    "test_df = pca.transform(test_df)"
   ]
  },
  {
   "cell_type": "code",
   "execution_count": 6,
   "metadata": {},
   "outputs": [],
   "source": [
    "model = joblib.load('LR_model')\n",
    "y_pred = model.predict(test_df)\n",
    "sub_df['failure'] = y_pred\n",
    "sub_df.to_csv('submission.csv')"
   ]
  }
 ],
 "metadata": {
  "kernelspec": {
   "display_name": "base",
   "language": "python",
   "name": "python3"
  },
  "language_info": {
   "codemirror_mode": {
    "name": "ipython",
    "version": 3
   },
   "file_extension": ".py",
   "mimetype": "text/x-python",
   "name": "python",
   "nbconvert_exporter": "python",
   "pygments_lexer": "ipython3",
   "version": "3.7.10 (default, Feb 26 2021, 13:06:18) [MSC v.1916 64 bit (AMD64)]"
  },
  "orig_nbformat": 4,
  "vscode": {
   "interpreter": {
    "hash": "a077222d77dfe082b8f1dd562ad70e458ac2ab76993a0b248ab0476e32e9e8dd"
   }
  }
 },
 "nbformat": 4,
 "nbformat_minor": 2
}
