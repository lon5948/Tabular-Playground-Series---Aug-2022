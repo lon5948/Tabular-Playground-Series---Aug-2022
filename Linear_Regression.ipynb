{
 "cells": [
  {
   "cell_type": "code",
   "execution_count": 371,
   "metadata": {},
   "outputs": [],
   "source": [
    "import numpy as np\n",
    "import pandas as pd\n",
    "\n",
    "from sklearn.linear_model import LinearRegression\n",
    "from sklearn.impute import SimpleImputer\n",
    "from sklearn.decomposition import PCA\n",
    "from sklearn.preprocessing import MinMaxScaler\n",
    "\n",
    "import warnings\n",
    "warnings.filterwarnings('ignore')"
   ]
  },
  {
   "cell_type": "code",
   "execution_count": 372,
   "metadata": {},
   "outputs": [
    {
     "name": "stdout",
     "output_type": "stream",
     "text": [
      "(26570, 25)\n",
      "(20775, 24)\n",
      "(20775, 1)\n"
     ]
    }
   ],
   "source": [
    "train_df = pd.read_csv('data/train.csv', index_col='id')\n",
    "test_df = pd.read_csv('data/test.csv', index_col='id')\n",
    "sub_df = pd.read_csv('sample_submission.csv', index_col='id')\n",
    "print(train_df.shape)\n",
    "print(test_df.shape)\n",
    "print(sub_df.shape)"
   ]
  },
  {
   "cell_type": "code",
   "execution_count": 373,
   "metadata": {},
   "outputs": [],
   "source": [
    "total_df = pd.concat([train_df.drop('failure', axis=1), test_df], axis=0)\n",
    "\n",
    "total_df['product_code'] = total_df['product_code'].map({'A':0, 'B':1, 'C':2, 'D':3, 'E':4, 'F':5, 'G':6, 'H':7, 'I':8})\n",
    "total_df['attribute_0'] = total_df['attribute_0'].map({'material_5':0, 'material_7':1})\n",
    "total_df['attribute_1'] = total_df['attribute_1'].map({'material_5':0, 'material_6':1, 'material_7':2, 'material_7':8})\n",
    "\n",
    "imputer = SimpleImputer(strategy='median')\n",
    "total_df = pd.DataFrame(imputer.fit_transform(total_df), columns=total_df.columns, index=total_df.index)"
   ]
  },
  {
   "cell_type": "code",
   "execution_count": 374,
   "metadata": {},
   "outputs": [],
   "source": [
    "train_data = total_df.iloc[: train_df.shape[0], :]\n",
    "test_data = total_df.iloc[train_df.shape[0] :, :]\n",
    "\n",
    "# I am using PCA to reduce the number of features, \n",
    "# hopefully I can reduce some of the noise to avoid overfitting\n",
    "pca = PCA(n_components=2)\n",
    "train_data = pca.fit_transform(train_data)\n",
    "test_data = pca.transform(test_data)\n",
    "\n",
    "# Scaling the data\n",
    "scaler = MinMaxScaler()\n",
    "train_data = scaler.fit_transform(train_data)\n",
    "test_data = scaler.transform(test_data)"
   ]
  },
  {
   "cell_type": "code",
   "execution_count": 375,
   "metadata": {},
   "outputs": [],
   "source": [
    "X = train_data.copy()\n",
    "target = train_df['failure']"
   ]
  },
  {
   "cell_type": "code",
   "execution_count": 376,
   "metadata": {},
   "outputs": [
    {
     "data": {
      "text/plain": [
       "LinearRegression(copy_X=True, fit_intercept=True, n_jobs=None, normalize=False)"
      ]
     },
     "execution_count": 376,
     "metadata": {},
     "output_type": "execute_result"
    }
   ],
   "source": [
    "model = LinearRegression(fit_intercept = True)\n",
    "model.fit(X, target)"
   ]
  },
  {
   "cell_type": "code",
   "execution_count": 377,
   "metadata": {},
   "outputs": [],
   "source": [
    "y_pred = model.predict(test_data)\n",
    "sub_df['failure'] = y_pred\n",
    "sub_df.to_csv('submission.csv')"
   ]
  }
 ],
 "metadata": {
  "kernelspec": {
   "display_name": "base",
   "language": "python",
   "name": "python3"
  },
  "language_info": {
   "codemirror_mode": {
    "name": "ipython",
    "version": 3
   },
   "file_extension": ".py",
   "mimetype": "text/x-python",
   "name": "python",
   "nbconvert_exporter": "python",
   "pygments_lexer": "ipython3",
   "version": "3.7.10"
  },
  "orig_nbformat": 4,
  "vscode": {
   "interpreter": {
    "hash": "a077222d77dfe082b8f1dd562ad70e458ac2ab76993a0b248ab0476e32e9e8dd"
   }
  }
 },
 "nbformat": 4,
 "nbformat_minor": 2
}
